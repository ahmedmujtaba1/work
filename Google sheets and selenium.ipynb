{
 "cells": [
  {
   "cell_type": "code",
   "execution_count": 3,
   "id": "4381e015",
   "metadata": {},
   "outputs": [],
   "source": [
    "import pygsheets\n",
    "\n",
    "client = pygsheets.authorize(service_file='glowing-box-321219-eb49ad1556f0.json')\n",
    "\n",
    "file = client.open('practice')\n",
    "\n",
    "sheet = file[0]"
   ]
  },
  {
   "cell_type": "code",
   "execution_count": 44,
   "id": "f4fd672f",
   "metadata": {
    "scrolled": true
   },
   "outputs": [],
   "source": [
    "#get old values\n",
    "column = 2\n",
    "old_data = sheet.get_col(column)\n",
    "data = [1, 2, 3]\n",
    "new_data = []\n",
    "\n",
    "empty = 0\n",
    "\n",
    "if '' in old_data:\n",
    "    \n",
    "    old_data.reverse()\n",
    "    \n",
    "    for i in range(len(old_data)):\n",
    "        if old_data[i] == '':\n",
    "            empty += 1\n",
    "        else:\n",
    "            break\n",
    "    for i in range(empty):\n",
    "        old_data.remove('')\n",
    "\n",
    "    old_data.reverse()\n",
    "\n",
    "    if '' in old_data:\n",
    "        for i in range(len(old_data)):\n",
    "            if old_data[i] == '':\n",
    "                del old_data[i]\n",
    "                old_data.insert(i,0)\n",
    "\n",
    "if old_data != []:\n",
    "    \n",
    "    for i in range(max(len(old_data),len(data))-min(len(old_data),len(data))):\n",
    "        if len(old_data) < len(data):\n",
    "            old_data.append(0)\n",
    "        elif len(old_data) > len(data):\n",
    "            data.append(0)\n",
    "            \n",
    "    for i in range(len(data)):\n",
    "        new_data.append(int(old_data[i]) + int(data[i]))\n",
    "else:\n",
    "    new_data = data\n",
    "\n",
    "#write new values\n",
    "sheet.update_col(column,new_data)"
   ]
  },
  {
   "cell_type": "code",
   "execution_count": 45,
   "id": "346011d0",
   "metadata": {},
   "outputs": [],
   "source": [
    "column = 2\n",
    "old_data = sheet.get_col(column)\n",
    "\n",
    "if '0' in old_data:\n",
    "        for i in range(len(old_data)):\n",
    "            if old_data[i] == '0':\n",
    "                del old_data[i]\n",
    "                old_data.insert(i,'')\n",
    "                \n",
    "sheet.update_col(column,old_data)"
   ]
  },
  {
   "cell_type": "code",
   "execution_count": 40,
   "id": "9fee1b45",
   "metadata": {},
   "outputs": [
    {
     "name": "stderr",
     "output_type": "stream",
     "text": [
      "C:\\Users\\Hadi-PC\\AppData\\Local\\Temp\\ipykernel_3752\\4286298944.py:4: DeprecationWarning: executable_path has been deprecated, please pass in a Service object\n",
      "  driver = webdriver.Chrome('chromedriver.exe')\n"
     ]
    }
   ],
   "source": [
    "from selenium import webdriver\n",
    "from selenium.webdriver.common.by import By\n",
    "\n",
    "driver = webdriver.Chrome('chromedriver.exe')\n",
    "driver.get(\"https://www.youtube.com/\")\n",
    "element = driver.find_element(By.XPATH, '//*[@id=\"search\"]')"
   ]
  },
  {
   "cell_type": "code",
   "execution_count": null,
   "id": "895adb3c",
   "metadata": {},
   "outputs": [],
   "source": []
  }
 ],
 "metadata": {
  "kernelspec": {
   "display_name": "Python 3 (ipykernel)",
   "language": "python",
   "name": "python3"
  },
  "language_info": {
   "codemirror_mode": {
    "name": "ipython",
    "version": 3
   },
   "file_extension": ".py",
   "mimetype": "text/x-python",
   "name": "python",
   "nbconvert_exporter": "python",
   "pygments_lexer": "ipython3",
   "version": "3.9.12"
  }
 },
 "nbformat": 4,
 "nbformat_minor": 5
}
