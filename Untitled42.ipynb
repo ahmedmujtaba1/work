{
 "cells": [
  {
   "cell_type": "code",
   "execution_count": 5,
   "metadata": {},
   "outputs": [
    {
     "name": "stderr",
     "output_type": "stream",
     "text": [
      "<ipython-input-5-68f713df8ddb>:27: DeprecationWarning: executable_path has been deprecated, please pass in a Service object\n",
      "  driver = webdriver.Chrome(executable_path='chromedriver.exe')\n"
     ]
    }
   ],
   "source": [
    "from tkinter import *\n",
    "from functools import partial\n",
    "from selenium import webdriver\n",
    "from selenium.webdriver.common.by import By\n",
    "\n",
    "def validateLogin(username,password):\n",
    "    \n",
    "    username_id = username.get()\n",
    "    password_id = password.get()\n",
    "        \n",
    "    gmail = open('gmail.txt','r')\n",
    "\n",
    "    if username_id != '' and password_id != '':\n",
    "        gmail_write =  open('gmail.txt','w')\n",
    "        password_write = open('password.txt','w')\n",
    "\n",
    "        gmail_write.write(username_id)\n",
    "        password_write.write(password_id)\n",
    "\n",
    "        gmail_write.close()\n",
    "        password_write.close()\n",
    "    elif gmail.read() == '':\n",
    "        Label1 = Label(Window, text=\"Gmail id and password not saved\", font=('Arial',25)).grid(row=2, column=0, columnspan=2)  \n",
    "\n",
    "    gmail.close()\n",
    "\n",
    "    driver = webdriver.Chrome(executable_path='chromedriver.exe')\n",
    "\n",
    "    # Open Webpage on ChromeDriver\n",
    "    driver.get('https://www.netacad.com/portal/learning')\n",
    "\n",
    "    gmail = open('gmail.txt','r')\n",
    "\n",
    "    while True:\n",
    "        try:\n",
    "            login = driver.find_element(By.XPATH,'//*[@id=\"idp-discovery-username\"]')\n",
    "            login.send_keys(gmail.read())\n",
    "            login.submit()\n",
    "            gmail.close()\n",
    "            break\n",
    "        except:\n",
    "            pass\n",
    "\n",
    "    password = open('password.txt','r')\n",
    "    password_read = password.read()\n",
    "    password.close()\n",
    "\n",
    "    while True:\n",
    "        try:\n",
    "            login = driver.find_element(By.XPATH,'//*[@id=\"okta-signin-password\"]')\n",
    "            login.send_keys(password_read)\n",
    "            login.submit()\n",
    "            try:\n",
    "                driver.find_element(By.XPATH,'//*[@id=\"form59\"]/div[1]/div[1]/div/div')\n",
    "                continue\n",
    "            except:\n",
    "                pass\n",
    "            break\n",
    "        except:\n",
    "            pass\n",
    "        \n",
    "    courses = {}\n",
    "\n",
    "    x = 1\n",
    "\n",
    "    while True:\n",
    "        try:\n",
    "            driver.find_element(By.XPATH,'//*[@id=\"main-content\"]/div/div/h1')\n",
    "            break\n",
    "        except:\n",
    "            pass\n",
    "\n",
    "    while True:\n",
    "\n",
    "        #course number and names\n",
    "        try:\n",
    "            course = driver.find_element(By.XPATH,f'//*[@id=\"learning-content\"]/div[2]/div/div[1]/div[2]/div/div[{x}]/div/div[2]/div[1]/div[2]')\n",
    "            course_name = course.get_attribute('title')\n",
    "        except:\n",
    "            break\n",
    "\n",
    "        #if you have passed the course\n",
    "        try:\n",
    "            course = driver.find_element(By.XPATH,f'//*[@id=\"learning-content\"]/div[2]/div/div[1]/div[2]/div/div[{x}]/div/div[3]/div[3]')\n",
    "            passed = 'You passed'\n",
    "        except:\n",
    "            passed = ''\n",
    "        x += 2\n",
    "\n",
    "        courses[course_name] = passed\n",
    "\n",
    "#window\n",
    "Window = Tk()   \n",
    "Window.geometry('800x175')  \n",
    "Window.title('Login')\n",
    "\n",
    "#username label and text entry box\n",
    "usernameLabel = Label(Window, text=\"User Name\", font=('Arial',25)).grid(row=0, column=0)\n",
    "username = StringVar()\n",
    "usernameEntry = Entry(Window, textvariable=username, font=('Arial',25)).grid(row=0, column=1)  \n",
    "\n",
    "#password label and password entry box\n",
    "passwordLabel = Label(Window, text=\"Password\", font=('Arial',25)).grid(row=1, column=0)  \n",
    "password = StringVar()\n",
    "passwordEntry = Entry(Window, textvariable=password, show='*', font=('Arial',25)).grid(row=1, column=1)  \n",
    "\n",
    "validateLogin = partial(validateLogin,username, password)\n",
    "\n",
    "#login button\n",
    "loginButton = Button(Window, text=\"Login-Leave boxes empty if you want to use old data.\", command=validateLogin, font=('Arial',25)).grid(row=4, column=0, columnspan=2)  \n",
    "\n",
    "Window.mainloop()"
   ]
  },
  {
   "cell_type": "code",
   "execution_count": 9,
   "metadata": {},
   "outputs": [
    {
     "data": {
      "text/plain": [
       "{'Introduction to IoT': '',\n",
       " 'IT Essentials: PC Hardware and Software': 'You passed',\n",
       " 'Introduction to Cybersecurity': 'You passed'}"
      ]
     },
     "execution_count": 9,
     "metadata": {},
     "output_type": "execute_result"
    }
   ],
   "source": [
    "courses"
   ]
  },
  {
   "cell_type": "code",
   "execution_count": 5,
   "metadata": {},
   "outputs": [],
   "source": [
    "from tkinter import *\n",
    "from functools import partial\n",
    "from selenium import webdriver\n",
    "from selenium.webdriver.common.by import By\n",
    "import time"
   ]
  },
  {
   "cell_type": "code",
   "execution_count": 7,
   "metadata": {},
   "outputs": [
    {
     "name": "stderr",
     "output_type": "stream",
     "text": [
      "<ipython-input-7-a827e1e9d62c>:18: DeprecationWarning: executable_path has been deprecated, please pass in a Service object\n",
      "  driver = webdriver.Chrome(executable_path='chromedriver.exe')\n"
     ]
    }
   ],
   "source": [
    "username_id = 'hadimillwala@gmail.com'\n",
    "password_id = 'BakraEid2022'\n",
    "\n",
    "gmail = open('gmail.txt','r')\n",
    "\n",
    "if username_id != '' and password_id != '':\n",
    "    gmail_write =  open('gmail.txt','w')\n",
    "    password_write = open('password.txt','w')\n",
    "\n",
    "    gmail_write.write(username_id)\n",
    "    password_write.write(password_id)\n",
    "\n",
    "    gmail_write.close()\n",
    "    password_write.close()\n",
    "\n",
    "gmail.close()\n",
    "\n",
    "driver = webdriver.Chrome(executable_path='chromedriver.exe')\n",
    "\n",
    "# Open Webpage on ChromeDriver\n",
    "driver.get('https://www.netacad.com/portal/learning')\n",
    "\n",
    "gmail = open('gmail.txt','r')\n",
    "\n",
    "while True:\n",
    "    try:\n",
    "        login = driver.find_element(By.XPATH,'//*[@id=\"idp-discovery-username\"]')\n",
    "        login.send_keys(gmail.read())\n",
    "        login.submit()\n",
    "        gmail.close()\n",
    "        break\n",
    "    except:\n",
    "        pass\n",
    "\n",
    "password = open('password.txt','r')\n",
    "password_read = password.read()\n",
    "password.close()\n",
    "\n",
    "while True:\n",
    "    try:\n",
    "        login = driver.find_element(By.XPATH,'//*[@id=\"okta-signin-password\"]')\n",
    "        login.send_keys(password_read)\n",
    "        login.submit()\n",
    "        try:\n",
    "            driver.find_element(By.XPATH,'//*[@id=\"form59\"]/div[1]/div[1]/div/div')\n",
    "            continue\n",
    "        except:\n",
    "            pass\n",
    "        break\n",
    "    except:\n",
    "        pass\n",
    "courses = {}\n",
    "\n",
    "x = 1\n",
    "\n",
    "while True:\n",
    "    try:\n",
    "        driver.find_element(By.XPATH,'//*[@id=\"main-content\"]/div/div/h1')\n",
    "        break\n",
    "    except:\n",
    "        pass\n",
    "\n",
    "while True:\n",
    "\n",
    "    #course number and names\n",
    "    try:\n",
    "        course = driver.find_element(By.XPATH,f'//*[@id=\"learning-content\"]/div[2]/div/div[1]/div[2]/div/div[{x}]/div/div[2]/div[1]/div[2]')\n",
    "        course_name = course.get_attribute('title')\n",
    "    except:\n",
    "        break\n",
    "\n",
    "    #if you have passed the course\n",
    "    try:\n",
    "        course = driver.find_element(By.XPATH,f'//*[@id=\"learning-content\"]/div[2]/div/div[1]/div[2]/div/div[{x}]/div/div[3]/div[3]')\n",
    "        passed = 'You passed'\n",
    "    except:\n",
    "        passed = ''\n",
    "    x += 2\n",
    "\n",
    "    courses[course_name] = passed"
   ]
  },
  {
   "cell_type": "code",
   "execution_count": 8,
   "metadata": {},
   "outputs": [
    {
     "data": {
      "text/plain": [
       "{'Introduction to IoT': '',\n",
       " 'IT Essentials: PC Hardware and Software': 'You passed',\n",
       " 'Introduction to Cybersecurity': 'You passed'}"
      ]
     },
     "execution_count": 8,
     "metadata": {},
     "output_type": "execute_result"
    }
   ],
   "source": [
    "courses"
   ]
  },
  {
   "cell_type": "code",
   "execution_count": 49,
   "metadata": {},
   "outputs": [
    {
     "data": {
      "text/plain": [
       "<a href=\"https://itexamanswers.net/questions-bank\" style=\"color: #28a745;\" title=\"IT Questions Bank\"><i class=\"fa fa-bank\"></i> IT Questions Bank</a>"
      ]
     },
     "execution_count": 49,
     "metadata": {},
     "output_type": "execute_result"
    }
   ],
   "source": [
    "import requests\n",
    "from bs4 import BeautifulSoup as bs\n",
    "\n",
    "response = requests.get('https://itexamanswers.net/introduction-to-the-internet-of-things-iot-exam-answers.html')\n",
    "\n",
    "soup = bs(response.text,'html.parser')\n",
    "\n",
    "soup.a"
   ]
  },
  {
   "cell_type": "code",
   "execution_count": 65,
   "metadata": {},
   "outputs": [
    {
     "name": "stdout",
     "output_type": "stream",
     "text": [
      "<tbody>\n",
      "<tr>\n",
      "<td><a href=\"https://itexamanswers.net/introduction-to-iot-chapter-1-quiz-answers.html\" title=\"Introduction to IoT - Chapter 1 Quiz Answers\"><strong>Introduction to IoT – Chapter 1 Quiz Answers</strong></a></td>\n",
      "</tr>\n",
      "<tr>\n",
      "<td><a href=\"https://itexamanswers.net/introduction-to-iot-chapter-2-quiz-answers.html\" title=\"Introduction to IoT - Chapter 2 Quiz Answers\"><strong>Introduction to IoT – Chapter 2 Quiz Answers</strong></a></td>\n",
      "</tr>\n",
      "<tr>\n",
      "<td><a href=\"https://itexamanswers.net/introduction-to-iot-chapter-3-quiz-answers.html\" title=\"Introduction to IoT - Chapter 3 Quiz Answers\"><strong>Introduction to IoT – Chapter 3 Quiz Answers</strong></a></td>\n",
      "</tr>\n",
      "<tr>\n",
      "<td><a href=\"https://itexamanswers.net/introduction-to-iot-chapter-4-quiz-answers.html\" title=\"Introduction to IoT - Chapter 4 Quiz Answers\"><strong>Introduction to IoT – Chapter 4 Quiz Answers</strong></a></td>\n",
      "</tr>\n",
      "<tr>\n",
      "<td><a href=\"https://itexamanswers.net/introduction-to-iot-chapter-5-quiz-answers.html\" title=\"Introduction to IoT - Chapter 5 Quiz Answers\"><strong>Introduction to IoT – Chapter 5 Quiz Answers</strong></a></td>\n",
      "</tr>\n",
      "<tr>\n",
      "<td><a href=\"https://itexamanswers.net/introduction-to-iot-chapter-6-quiz-answers.html\" title=\"Introduction to IoT - Chapter 6 Quiz Answers\"><strong>Introduction to IoT – Chapter 6 Quiz Answers</strong></a></td>\n",
      "</tr>\n",
      "<tr>\n",
      "<td><a href=\"https://itexamanswers.net/introduction-to-iot-version-2-final-exam-answers.html\" title=\"Introduction to the Internet of Things ( Version 2) - Introduction to IoT: Final Exam\"><strong style=\"color: #ff0000\">Introduction to IoT Final Exam Answers</strong></a></td>\n",
      "</tr>\n",
      "</tbody>\n"
     ]
    }
   ],
   "source": [
    "print(soup.table.tbody)"
   ]
  },
  {
   "cell_type": "markdown",
   "metadata": {},
   "source": [
    "//*[@id=\"post-73540\"]/div/div/div[3]/table/tbody/tr[1]/td/a\n",
    "//*[@id=\"post-73540\"]/div/div/div[3]/table/tbody/tr[2]/td/a\n",
    "//*[@id=\"post-73540\"]/div/div/div[3]/table/tbody/tr[7]/td/a"
   ]
  },
  {
   "cell_type": "code",
   "execution_count": 5,
   "metadata": {},
   "outputs": [],
   "source": [
    "import requests\n",
    "from bs4 import BeautifulSoup as bs"
   ]
  },
  {
   "cell_type": "code",
   "execution_count": 66,
   "metadata": {},
   "outputs": [],
   "source": [
    "response = requests.get('https://pk.sapphireonline.pk/collections/man')\n",
    "soup = bs(response.text,'html.parser')"
   ]
  },
  {
   "cell_type": "code",
   "execution_count": 99,
   "metadata": {},
   "outputs": [],
   "source": [
    "links = soup.find_all('div',{'class':'product-inner pr'})"
   ]
  },
  {
   "cell_type": "code",
   "execution_count": 100,
   "metadata": {},
   "outputs": [],
   "source": [
    "links_list= []\n",
    "for i in links:\n",
    "    links_list.append(i.a['href'])"
   ]
  },
  {
   "cell_type": "code",
   "execution_count": 83,
   "metadata": {},
   "outputs": [],
   "source": [
    "price = soup.find_all('span',{'class':'price dib mb__5'})"
   ]
  },
  {
   "cell_type": "code",
   "execution_count": 97,
   "metadata": {},
   "outputs": [],
   "source": [
    "price_list = []\n",
    "for i in price:\n",
    "    price_list.append(i.text)"
   ]
  },
  {
   "cell_type": "code",
   "execution_count": 95,
   "metadata": {},
   "outputs": [],
   "source": [
    "name = soup.find_all('h3',{'class':'product-title pr fs__14 mg__0 fwm'})"
   ]
  },
  {
   "cell_type": "code",
   "execution_count": 96,
   "metadata": {},
   "outputs": [],
   "source": [
    "name_list = []\n",
    "for i in name:\n",
    "    name_list.append(i.text)"
   ]
  },
  {
   "cell_type": "code",
   "execution_count": 87,
   "metadata": {},
   "outputs": [],
   "source": [
    "import csv"
   ]
  },
  {
   "cell_type": "code",
   "execution_count": 106,
   "metadata": {},
   "outputs": [],
   "source": [
    "with open('data.csv','a') as file:\n",
    "    data_handler = csv.writer(file)\n",
    "    data_handler.writecolumn(name_list)"
   ]
  },
  {
   "cell_type": "code",
   "execution_count": null,
   "metadata": {},
   "outputs": [],
   "source": []
  }
 ],
 "metadata": {
  "kernelspec": {
   "display_name": "Python 3",
   "language": "python",
   "name": "python3"
  },
  "language_info": {
   "codemirror_mode": {
    "name": "ipython",
    "version": 3
   },
   "file_extension": ".py",
   "mimetype": "text/x-python",
   "name": "python",
   "nbconvert_exporter": "python",
   "pygments_lexer": "ipython3",
   "version": "3.8.5"
  }
 },
 "nbformat": 4,
 "nbformat_minor": 4
}
